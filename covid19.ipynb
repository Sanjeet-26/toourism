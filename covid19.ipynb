{
 "cells": [
  {
   "cell_type": "code",
   "execution_count": 3,
   "id": "2ac55eb5-9568-433d-9f0a-719e5e4355a9",
   "metadata": {},
   "outputs": [],
   "source": [
    "import pandas as pd\n",
    "import numpy as np\n"
   ]
  },
  {
   "cell_type": "code",
   "execution_count": 15,
   "id": "71e7f729-7c6b-47bb-baf6-cd91fc8a8a7d",
   "metadata": {},
   "outputs": [],
   "source": [
    "data=pd.read_csv(r\"C:\\Users\\ASUS\\OneDrive\\Documents\\tourism.test.csv\")"
   ]
  },
  {
   "cell_type": "code",
   "execution_count": 16,
   "id": "59531f6b-b5b3-412a-99ac-c28baa5a214d",
   "metadata": {},
   "outputs": [
    {
     "data": {
      "text/html": [
       "<div>\n",
       "<style scoped>\n",
       "    .dataframe tbody tr th:only-of-type {\n",
       "        vertical-align: middle;\n",
       "    }\n",
       "\n",
       "    .dataframe tbody tr th {\n",
       "        vertical-align: top;\n",
       "    }\n",
       "\n",
       "    .dataframe thead th {\n",
       "        text-align: right;\n",
       "    }\n",
       "</style>\n",
       "<table border=\"1\" class=\"dataframe\">\n",
       "  <thead>\n",
       "    <tr style=\"text-align: right;\">\n",
       "      <th></th>\n",
       "      <th>City</th>\n",
       "      <th>Country</th>\n",
       "      <th>Tourist Arrivals</th>\n",
       "      <th>Revenue (in Million $)</th>\n",
       "      <th>Average Stay (Days)</th>\n",
       "      <th>Rating (Out of 5)</th>\n",
       "    </tr>\n",
       "  </thead>\n",
       "  <tbody>\n",
       "    <tr>\n",
       "      <th>0</th>\n",
       "      <td>Paris</td>\n",
       "      <td>France</td>\n",
       "      <td>19000000</td>\n",
       "      <td>28000</td>\n",
       "      <td>4.5</td>\n",
       "      <td>4.8</td>\n",
       "    </tr>\n",
       "    <tr>\n",
       "      <th>1</th>\n",
       "      <td>New York</td>\n",
       "      <td>USA</td>\n",
       "      <td>13500000</td>\n",
       "      <td>25000</td>\n",
       "      <td>5.2</td>\n",
       "      <td>4.6</td>\n",
       "    </tr>\n",
       "    <tr>\n",
       "      <th>2</th>\n",
       "      <td>Tokyo</td>\n",
       "      <td>Japan</td>\n",
       "      <td>11000000</td>\n",
       "      <td>18000</td>\n",
       "      <td>3.8</td>\n",
       "      <td>4.7</td>\n",
       "    </tr>\n",
       "    <tr>\n",
       "      <th>3</th>\n",
       "      <td>London</td>\n",
       "      <td>UK</td>\n",
       "      <td>16000000</td>\n",
       "      <td>27000</td>\n",
       "      <td>4.9</td>\n",
       "      <td>4.7</td>\n",
       "    </tr>\n",
       "    <tr>\n",
       "      <th>4</th>\n",
       "      <td>Dubai</td>\n",
       "      <td>UAE</td>\n",
       "      <td>15500000</td>\n",
       "      <td>32000</td>\n",
       "      <td>6.0</td>\n",
       "      <td>4.9</td>\n",
       "    </tr>\n",
       "    <tr>\n",
       "      <th>5</th>\n",
       "      <td>Rome</td>\n",
       "      <td>Italy</td>\n",
       "      <td>10000000</td>\n",
       "      <td>15000</td>\n",
       "      <td>4.2</td>\n",
       "      <td>4.5</td>\n",
       "    </tr>\n",
       "    <tr>\n",
       "      <th>6</th>\n",
       "      <td>Bangkok</td>\n",
       "      <td>Thailand</td>\n",
       "      <td>22000000</td>\n",
       "      <td>24000</td>\n",
       "      <td>5.5</td>\n",
       "      <td>4.8</td>\n",
       "    </tr>\n",
       "    <tr>\n",
       "      <th>7</th>\n",
       "      <td>Istanbul</td>\n",
       "      <td>Turkey</td>\n",
       "      <td>14500000</td>\n",
       "      <td>13000</td>\n",
       "      <td>4.1</td>\n",
       "      <td>4.4</td>\n",
       "    </tr>\n",
       "    <tr>\n",
       "      <th>8</th>\n",
       "      <td>Singapore</td>\n",
       "      <td>Singapore</td>\n",
       "      <td>14000000</td>\n",
       "      <td>14000</td>\n",
       "      <td>4.3</td>\n",
       "      <td>4.6</td>\n",
       "    </tr>\n",
       "    <tr>\n",
       "      <th>9</th>\n",
       "      <td>Barcelona</td>\n",
       "      <td>Spain</td>\n",
       "      <td>12000000</td>\n",
       "      <td>12000</td>\n",
       "      <td>3.9</td>\n",
       "      <td>4.3</td>\n",
       "    </tr>\n",
       "  </tbody>\n",
       "</table>\n",
       "</div>"
      ],
      "text/plain": [
       "        City    Country  Tourist Arrivals  Revenue (in Million $)  \\\n",
       "0      Paris     France          19000000                   28000   \n",
       "1   New York        USA          13500000                   25000   \n",
       "2      Tokyo      Japan          11000000                   18000   \n",
       "3     London         UK          16000000                   27000   \n",
       "4      Dubai        UAE          15500000                   32000   \n",
       "5       Rome      Italy          10000000                   15000   \n",
       "6    Bangkok   Thailand          22000000                   24000   \n",
       "7   Istanbul     Turkey          14500000                   13000   \n",
       "8  Singapore  Singapore          14000000                   14000   \n",
       "9  Barcelona      Spain          12000000                   12000   \n",
       "\n",
       "   Average Stay (Days)  Rating (Out of 5)  \n",
       "0                  4.5                4.8  \n",
       "1                  5.2                4.6  \n",
       "2                  3.8                4.7  \n",
       "3                  4.9                4.7  \n",
       "4                  6.0                4.9  \n",
       "5                  4.2                4.5  \n",
       "6                  5.5                4.8  \n",
       "7                  4.1                4.4  \n",
       "8                  4.3                4.6  \n",
       "9                  3.9                4.3  "
      ]
     },
     "execution_count": 16,
     "metadata": {},
     "output_type": "execute_result"
    }
   ],
   "source": [
    "data"
   ]
  },
  {
   "cell_type": "code",
   "execution_count": 17,
   "id": "ea999646-d566-4b23-9474-4e07343c7f7c",
   "metadata": {},
   "outputs": [
    {
     "data": {
      "text/plain": [
       "Index(['City', 'Country', 'Tourist Arrivals', 'Revenue (in Million $)',\n",
       "       'Average Stay (Days)', 'Rating (Out of 5)'],\n",
       "      dtype='object')"
      ]
     },
     "execution_count": 17,
     "metadata": {},
     "output_type": "execute_result"
    }
   ],
   "source": [
    "data.columns\n"
   ]
  },
  {
   "cell_type": "code",
   "execution_count": 18,
   "id": "37488f00-4304-4cfc-8d83-2184c272ca07",
   "metadata": {},
   "outputs": [
    {
     "data": {
      "text/html": [
       "<div>\n",
       "<style scoped>\n",
       "    .dataframe tbody tr th:only-of-type {\n",
       "        vertical-align: middle;\n",
       "    }\n",
       "\n",
       "    .dataframe tbody tr th {\n",
       "        vertical-align: top;\n",
       "    }\n",
       "\n",
       "    .dataframe thead th {\n",
       "        text-align: right;\n",
       "    }\n",
       "</style>\n",
       "<table border=\"1\" class=\"dataframe\">\n",
       "  <thead>\n",
       "    <tr style=\"text-align: right;\">\n",
       "      <th></th>\n",
       "      <th>City</th>\n",
       "      <th>Country</th>\n",
       "      <th>Tourist Arrivals</th>\n",
       "      <th>Revenue (in Million $)</th>\n",
       "      <th>Average Stay (Days)</th>\n",
       "      <th>Rating (Out of 5)</th>\n",
       "    </tr>\n",
       "  </thead>\n",
       "  <tbody>\n",
       "    <tr>\n",
       "      <th>5</th>\n",
       "      <td>Rome</td>\n",
       "      <td>Italy</td>\n",
       "      <td>10000000</td>\n",
       "      <td>15000</td>\n",
       "      <td>4.2</td>\n",
       "      <td>4.5</td>\n",
       "    </tr>\n",
       "    <tr>\n",
       "      <th>6</th>\n",
       "      <td>Bangkok</td>\n",
       "      <td>Thailand</td>\n",
       "      <td>22000000</td>\n",
       "      <td>24000</td>\n",
       "      <td>5.5</td>\n",
       "      <td>4.8</td>\n",
       "    </tr>\n",
       "    <tr>\n",
       "      <th>7</th>\n",
       "      <td>Istanbul</td>\n",
       "      <td>Turkey</td>\n",
       "      <td>14500000</td>\n",
       "      <td>13000</td>\n",
       "      <td>4.1</td>\n",
       "      <td>4.4</td>\n",
       "    </tr>\n",
       "    <tr>\n",
       "      <th>8</th>\n",
       "      <td>Singapore</td>\n",
       "      <td>Singapore</td>\n",
       "      <td>14000000</td>\n",
       "      <td>14000</td>\n",
       "      <td>4.3</td>\n",
       "      <td>4.6</td>\n",
       "    </tr>\n",
       "    <tr>\n",
       "      <th>9</th>\n",
       "      <td>Barcelona</td>\n",
       "      <td>Spain</td>\n",
       "      <td>12000000</td>\n",
       "      <td>12000</td>\n",
       "      <td>3.9</td>\n",
       "      <td>4.3</td>\n",
       "    </tr>\n",
       "  </tbody>\n",
       "</table>\n",
       "</div>"
      ],
      "text/plain": [
       "        City    Country  Tourist Arrivals  Revenue (in Million $)  \\\n",
       "5       Rome      Italy          10000000                   15000   \n",
       "6    Bangkok   Thailand          22000000                   24000   \n",
       "7   Istanbul     Turkey          14500000                   13000   \n",
       "8  Singapore  Singapore          14000000                   14000   \n",
       "9  Barcelona      Spain          12000000                   12000   \n",
       "\n",
       "   Average Stay (Days)  Rating (Out of 5)  \n",
       "5                  4.2                4.5  \n",
       "6                  5.5                4.8  \n",
       "7                  4.1                4.4  \n",
       "8                  4.3                4.6  \n",
       "9                  3.9                4.3  "
      ]
     },
     "execution_count": 18,
     "metadata": {},
     "output_type": "execute_result"
    }
   ],
   "source": [
    "data.tail()"
   ]
  },
  {
   "cell_type": "code",
   "execution_count": 20,
   "id": "62c79644-c46d-4ef0-96c0-f5c75d277895",
   "metadata": {},
   "outputs": [
    {
     "data": {
      "text/html": [
       "<div>\n",
       "<style scoped>\n",
       "    .dataframe tbody tr th:only-of-type {\n",
       "        vertical-align: middle;\n",
       "    }\n",
       "\n",
       "    .dataframe tbody tr th {\n",
       "        vertical-align: top;\n",
       "    }\n",
       "\n",
       "    .dataframe thead th {\n",
       "        text-align: right;\n",
       "    }\n",
       "</style>\n",
       "<table border=\"1\" class=\"dataframe\">\n",
       "  <thead>\n",
       "    <tr style=\"text-align: right;\">\n",
       "      <th></th>\n",
       "      <th>Tourist Arrivals</th>\n",
       "      <th>Revenue (in Million $)</th>\n",
       "      <th>Average Stay (Days)</th>\n",
       "      <th>Rating (Out of 5)</th>\n",
       "    </tr>\n",
       "  </thead>\n",
       "  <tbody>\n",
       "    <tr>\n",
       "      <th>count</th>\n",
       "      <td>1.000000e+01</td>\n",
       "      <td>10.000000</td>\n",
       "      <td>10.000000</td>\n",
       "      <td>10.000000</td>\n",
       "    </tr>\n",
       "    <tr>\n",
       "      <th>mean</th>\n",
       "      <td>1.475000e+07</td>\n",
       "      <td>20800.000000</td>\n",
       "      <td>4.640000</td>\n",
       "      <td>4.630000</td>\n",
       "    </tr>\n",
       "    <tr>\n",
       "      <th>std</th>\n",
       "      <td>3.638147e+06</td>\n",
       "      <td>7223.418704</td>\n",
       "      <td>0.733636</td>\n",
       "      <td>0.188856</td>\n",
       "    </tr>\n",
       "    <tr>\n",
       "      <th>min</th>\n",
       "      <td>1.000000e+07</td>\n",
       "      <td>12000.000000</td>\n",
       "      <td>3.800000</td>\n",
       "      <td>4.300000</td>\n",
       "    </tr>\n",
       "    <tr>\n",
       "      <th>25%</th>\n",
       "      <td>1.237500e+07</td>\n",
       "      <td>14250.000000</td>\n",
       "      <td>4.125000</td>\n",
       "      <td>4.525000</td>\n",
       "    </tr>\n",
       "    <tr>\n",
       "      <th>50%</th>\n",
       "      <td>1.425000e+07</td>\n",
       "      <td>21000.000000</td>\n",
       "      <td>4.400000</td>\n",
       "      <td>4.650000</td>\n",
       "    </tr>\n",
       "    <tr>\n",
       "      <th>75%</th>\n",
       "      <td>1.587500e+07</td>\n",
       "      <td>26500.000000</td>\n",
       "      <td>5.125000</td>\n",
       "      <td>4.775000</td>\n",
       "    </tr>\n",
       "    <tr>\n",
       "      <th>max</th>\n",
       "      <td>2.200000e+07</td>\n",
       "      <td>32000.000000</td>\n",
       "      <td>6.000000</td>\n",
       "      <td>4.900000</td>\n",
       "    </tr>\n",
       "  </tbody>\n",
       "</table>\n",
       "</div>"
      ],
      "text/plain": [
       "       Tourist Arrivals  Revenue (in Million $)  Average Stay (Days)  \\\n",
       "count      1.000000e+01               10.000000            10.000000   \n",
       "mean       1.475000e+07            20800.000000             4.640000   \n",
       "std        3.638147e+06             7223.418704             0.733636   \n",
       "min        1.000000e+07            12000.000000             3.800000   \n",
       "25%        1.237500e+07            14250.000000             4.125000   \n",
       "50%        1.425000e+07            21000.000000             4.400000   \n",
       "75%        1.587500e+07            26500.000000             5.125000   \n",
       "max        2.200000e+07            32000.000000             6.000000   \n",
       "\n",
       "       Rating (Out of 5)  \n",
       "count          10.000000  \n",
       "mean            4.630000  \n",
       "std             0.188856  \n",
       "min             4.300000  \n",
       "25%             4.525000  \n",
       "50%             4.650000  \n",
       "75%             4.775000  \n",
       "max             4.900000  "
      ]
     },
     "execution_count": 20,
     "metadata": {},
     "output_type": "execute_result"
    }
   ],
   "source": [
    "data.describe()"
   ]
  },
  {
   "cell_type": "code",
   "execution_count": 21,
   "id": "97622c7a-4714-4919-8d81-9f9037287395",
   "metadata": {},
   "outputs": [
    {
     "data": {
      "text/plain": [
       "City                      0\n",
       "Country                   0\n",
       "Tourist Arrivals          0\n",
       "Revenue (in Million $)    0\n",
       "Average Stay (Days)       0\n",
       "Rating (Out of 5)         0\n",
       "dtype: int64"
      ]
     },
     "execution_count": 21,
     "metadata": {},
     "output_type": "execute_result"
    }
   ],
   "source": [
    "data.isnull().sum()"
   ]
  },
  {
   "cell_type": "code",
   "execution_count": 22,
   "id": "64c9154e-9e98-47f0-82c7-c3b60463c5b8",
   "metadata": {},
   "outputs": [],
   "source": [
    "import seaborn as sns"
   ]
  },
  {
   "cell_type": "code",
   "execution_count": 11,
   "id": "9293fce9-e5a4-485e-ab45-68dd9dc9a2f1",
   "metadata": {},
   "outputs": [],
   "source": [
    "import seaborn as sns"
   ]
  },
  {
   "cell_type": "code",
   "execution_count": 23,
   "id": "5730b272-035a-48ff-9c32-976841a24d2f",
   "metadata": {},
   "outputs": [
    {
     "data": {
      "text/html": [
       "<div>\n",
       "<style scoped>\n",
       "    .dataframe tbody tr th:only-of-type {\n",
       "        vertical-align: middle;\n",
       "    }\n",
       "\n",
       "    .dataframe tbody tr th {\n",
       "        vertical-align: top;\n",
       "    }\n",
       "\n",
       "    .dataframe thead th {\n",
       "        text-align: right;\n",
       "    }\n",
       "</style>\n",
       "<table border=\"1\" class=\"dataframe\">\n",
       "  <thead>\n",
       "    <tr style=\"text-align: right;\">\n",
       "      <th></th>\n",
       "      <th>City</th>\n",
       "      <th>Country</th>\n",
       "      <th>Tourist Arrivals</th>\n",
       "      <th>Revenue (in Million $)</th>\n",
       "      <th>Average Stay (Days)</th>\n",
       "      <th>Rating (Out of 5)</th>\n",
       "    </tr>\n",
       "  </thead>\n",
       "  <tbody>\n",
       "    <tr>\n",
       "      <th>0</th>\n",
       "      <td>Paris</td>\n",
       "      <td>France</td>\n",
       "      <td>19000000</td>\n",
       "      <td>28000</td>\n",
       "      <td>4.5</td>\n",
       "      <td>4.8</td>\n",
       "    </tr>\n",
       "    <tr>\n",
       "      <th>1</th>\n",
       "      <td>New York</td>\n",
       "      <td>USA</td>\n",
       "      <td>13500000</td>\n",
       "      <td>25000</td>\n",
       "      <td>5.2</td>\n",
       "      <td>4.6</td>\n",
       "    </tr>\n",
       "    <tr>\n",
       "      <th>2</th>\n",
       "      <td>Tokyo</td>\n",
       "      <td>Japan</td>\n",
       "      <td>11000000</td>\n",
       "      <td>18000</td>\n",
       "      <td>3.8</td>\n",
       "      <td>4.7</td>\n",
       "    </tr>\n",
       "    <tr>\n",
       "      <th>3</th>\n",
       "      <td>London</td>\n",
       "      <td>UK</td>\n",
       "      <td>16000000</td>\n",
       "      <td>27000</td>\n",
       "      <td>4.9</td>\n",
       "      <td>4.7</td>\n",
       "    </tr>\n",
       "    <tr>\n",
       "      <th>4</th>\n",
       "      <td>Dubai</td>\n",
       "      <td>UAE</td>\n",
       "      <td>15500000</td>\n",
       "      <td>32000</td>\n",
       "      <td>6.0</td>\n",
       "      <td>4.9</td>\n",
       "    </tr>\n",
       "  </tbody>\n",
       "</table>\n",
       "</div>"
      ],
      "text/plain": [
       "       City Country  Tourist Arrivals  Revenue (in Million $)  \\\n",
       "0     Paris  France          19000000                   28000   \n",
       "1  New York     USA          13500000                   25000   \n",
       "2     Tokyo   Japan          11000000                   18000   \n",
       "3    London      UK          16000000                   27000   \n",
       "4     Dubai     UAE          15500000                   32000   \n",
       "\n",
       "   Average Stay (Days)  Rating (Out of 5)  \n",
       "0                  4.5                4.8  \n",
       "1                  5.2                4.6  \n",
       "2                  3.8                4.7  \n",
       "3                  4.9                4.7  \n",
       "4                  6.0                4.9  "
      ]
     },
     "execution_count": 23,
     "metadata": {},
     "output_type": "execute_result"
    }
   ],
   "source": [
    "data.head()"
   ]
  },
  {
   "cell_type": "code",
   "execution_count": 24,
   "id": "fcbd7544-d8b8-4b89-b62f-1b328759430f",
   "metadata": {
    "collapsed": true,
    "jupyter": {
     "outputs_hidden": true
    }
   },
   "outputs": [
    {
     "data": {
      "text/plain": [
       "<seaborn.axisgrid.FacetGrid at 0x1e97626b050>"
      ]
     },
     "execution_count": 24,
     "metadata": {},
     "output_type": "execute_result"
    },
    {
     "data": {
      "image/png": "[encoded data removed]",
      "text/plain": [
       "<Figure size 500x500 with 1 Axes>"
      ]
     },
     "metadata": {},
     "output_type": "display_data"
    }
   ],
   "source": [
    "sns.relplot(x=\"Tourist Arrivals\",y=\"Revenue (in Million $)\",data=data)"
   ]
  },
  {
   "cell_type": "code",
   "execution_count": 25,
   "id": "9884ea14-8338-41fc-ac52-e02d1bcd6444",
   "metadata": {},
   "outputs": [
    {
     "data": {
      "text/plain": [
       "<seaborn.axisgrid.FacetGrid at 0x1e976306330>"
      ]
     },
     "execution_count": 25,
     "metadata": {},
     "output_type": "execute_result"
    },
    {
     "data": {
      "image/png": "[encoded data removed]",
      "text/plain": [
       "<Figure size 500x500 with 1 Axes>"
      ]
     },
     "metadata": {},
     "output_type": "display_data"
    }
   ],
   "source": [
    "sns.relplot(x=\"Tourist Arrivals\",y=\"Revenue (in Million $)\",kind='line',data=data)"
   ]
  },
  {
   "cell_type": "code",
   "execution_count": 28,
   "id": "d40e89d3-ce64-478e-8f1a-7fdbb52d1682",
   "metadata": {},
   "outputs": [
    {
     "data": {
      "text/plain": [
       "<seaborn.axisgrid.FacetGrid at 0x1e9788b4980>"
      ]
     },
     "execution_count": 28,
     "metadata": {},
     "output_type": "execute_result"
    },
    {
     "data": {
      "image/png": "[encoded data removed]",
      "text/plain": [
       "<Figure size 511.111x500 with 1 Axes>"
      ]
     },
     "metadata": {},
     "output_type": "display_data"
    }
   ],
   "source": [
    "sns.catplot(x='Tourist Arrivals',y='Average Stay (Days)',data=data)"
   ]
  },
  {
   "cell_type": "code",
   "execution_count": null,
   "id": "c1dc50af-3a50-43da-861c-b1e97454e5f2",
   "metadata": {},
   "outputs": [],
   "source": []
  }
 ],
 "metadata": {
  "kernelspec": {
   "display_name": "Python 3 (ipykernel)",
   "language": "python",
   "name": "python3"
  },
  "language_info": {
   "codemirror_mode": {
    "name": "ipython",
    "version": 3
   },
   "file_extension": ".py",
   "mimetype": "text/x-python",
   "name": "python",
   "nbconvert_exporter": "python",
   "pygments_lexer": "ipython3",
   "version": "3.12.6"
  }
 },
 "nbformat": 4,
 "nbformat_minor": 5
}
